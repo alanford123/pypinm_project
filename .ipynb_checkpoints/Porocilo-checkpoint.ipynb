{
 "cells": [
  {
   "cell_type": "code",
   "execution_count": 1,
   "metadata": {},
   "outputs": [],
   "source": [
    "import numpy as np\n",
    "import sympy as sym\n",
    "import scipy as sp \n",
    "from scipy import integrate\n",
    "import matplotlib.pylab as plt\n",
    "%matplotlib inline\n",
    "sym.init_printing()"
   ]
  },
  {
   "cell_type": "markdown",
   "metadata": {},
   "source": [
    "Base input data"
   ]
  },
  {
   "cell_type": "code",
   "execution_count": 2,
   "metadata": {},
   "outputs": [],
   "source": [
    "g0 = 9.81 #Gravitational acceleration [m/s^2]\n",
    "rho = 7874 #Density of sphere [kg/m^3]\n",
    "diam = 0.2 #Diameter of sphere [m]\n",
    "height = 10000 #Height of tower [m]\n",
    "samples = 500 #Number of points (resolution) [/]\n",
    "duration = 50 #Duration of calculation [s]\n",
    "y_points,y_step = np.linspace(0,duration,samples, retstep=True) #Points for sampling @TODO: does this need a +1 on number of samples?"
   ]
  },
  {
   "cell_type": "markdown",
   "metadata": {},
   "source": [
    "# Poročilo samostojnega projekta za pypinm\n",
    "\n",
    "V tem končnem projektu bomo izvedli simulacijo telesa v prostem padu. S simbolnim računanjem bomo določili vse potrebne vstopne podatke, nato pa numerično določili obnašanje telesa v padcu.\n",
    "\n",
    "Dodan je še spletni vmesnik, kateri je predstavljen na koncu poročila.\n",
    "\n",
    " - simbolno reševanje,\n",
    "    - Prikaz izračuna v Jupyter Notebook\n",
    "    - Določanje začetnih konstant\n",
    " - sistemi linearnih enačb,\n",
    "     - ?\n",
    " - interpolacija ali aproksimacija,\n",
    "     - določanje enačbe krivulje pospeška\n",
    " - iskanje ničel,\n",
    "     - določanje terminalne hitrosti?\n",
    " - integriranje ali odvajanje,\n",
    "     - določanje hitrosti in translacije iz interpolirane enačbe pospeška\n",
    " - reševanje diferencialnih enačb.\n",
    "     - reševanje enačbe padca skozi zrak\n",
    "\n",
    "\n",
    "## Nosilna enačba\n",
    "Naša glavna enačba, iz katere bomo izhajali, je diferencialna enačba prostega pada.\n",
    "\n",
    "$$m\\ddot{y}+(\\frac{1}{2}CA\\rho)\\dot{y}-mg=0$$"
   ]
  },
  {
   "cell_type": "markdown",
   "metadata": {},
   "source": [
    "## Simbolni izračun\n",
    "\n",
    "Želimo izračunati vstopne podatke in konstante za izračun diferencialne enačbe. Potrebujemo določiti:\n",
    "    - Maso padajoče kroglje\n",
    "    - Gostota plina skozi katerega pada kroglja\n",
    "    - Konstanto zračnega upora \n",
    "$$k=\\frac{1}{2}CA\\rho$$"
   ]
  },
  {
   "cell_type": "markdown",
   "metadata": {},
   "source": [
    "### Masa\n",
    "\n",
    "Maso telesa v prostem padu bomo izračunali s pomočjo enostavne odvisnoti med gostoto in volumnom.\n",
    "\n",
    "$$m = \\rho*V$$\n",
    "$$V = \\frac{4}{3} *\\pi*r^3$$\n",
    "$$m = \\frac{4}{3}*\\rho*\\pi*r^3 $$"
   ]
  },
  {
   "cell_type": "code",
   "execution_count": 3,
   "metadata": {},
   "outputs": [],
   "source": [
    "from sympy import Rational\n",
    "from sympy.solvers import solve"
   ]
  },
  {
   "cell_type": "markdown",
   "metadata": {},
   "source": [
    "Nastavimo enačbo za izračun mase\n",
    "- (Opomba: ta korak je tukaj nepotreben, pravzaprav je izračun mase s simbolnim računanjem nepotreben in brez razloga zakompliciran. V simulaciji je ubrana bolj smiselna bližnica z uporabo navadne funkcije.)"
   ]
  },
  {
   "cell_type": "code",
   "execution_count": 4,
   "metadata": {},
   "outputs": [
    {
     "data": {
      "image/png": "[encoded data removed]",
      "text/latex": [
       "$$m = \\frac{4 \\pi r^{3} \\rho}{3}$$"
      ],
      "text/plain": [
       "         3  \n",
       "    4⋅π⋅r ⋅ρ\n",
       "m = ────────\n",
       "       3    "
      ]
     },
     "execution_count": 4,
     "metadata": {},
     "output_type": "execute_result"
    }
   ],
   "source": [
    "_m, _rho, _r = sym.symbols('m, rho, r')\n",
    "eq = sym.Eq(_m, Rational(4,3)*_rho*sym.pi*_r**3)\n",
    "eq"
   ]
  },
  {
   "cell_type": "markdown",
   "metadata": {},
   "source": [
    "Vstavimo naše vstopne podatke in izračunamo maso."
   ]
  },
  {
   "cell_type": "code",
   "execution_count": 5,
   "metadata": {},
   "outputs": [
    {
     "data": {
      "image/png": "[encoded data removed]",
      "text/latex": [
       "$$\\left [ 32.9825340724881\\right ]$$"
      ],
      "text/plain": [
       "[32.9825340724881]"
      ]
     },
     "execution_count": 5,
     "metadata": {},
     "output_type": "execute_result"
    }
   ],
   "source": [
    "m = solve(eq.subs({_rho:rho,_r:diam/2}),_m)\n",
    "m"
   ]
  },
  {
   "cell_type": "markdown",
   "metadata": {},
   "source": [
    "Določimo float število za nadaljne izračune"
   ]
  },
  {
   "cell_type": "code",
   "execution_count": 6,
   "metadata": {},
   "outputs": [
    {
     "name": "stdout",
     "output_type": "stream",
     "text": [
      "Masa je 32.98 kg\n"
     ]
    }
   ],
   "source": [
    "m = m[0].evalf()\n",
    "print(f'Masa je {round(m,2)} kg')"
   ]
  },
  {
   "cell_type": "markdown",
   "metadata": {},
   "source": [
    "## Izračun tlaka\n",
    "Preden lahko izračunamo konstanto sile upora potrebujemo izračunati gostoto zraka. To lahko izračunamo iz plinske enačbe:\n",
    "$$ p*V = \\frac{m*R_u*T}{M} $$\n",
    "in enakosti \n",
    "$$m = \\rho*V$$"
   ]
  },
  {
   "cell_type": "code",
   "execution_count": 7,
   "metadata": {},
   "outputs": [
    {
     "data": {
      "image/png": "[encoded data removed]",
      "text/latex": [
       "$$V p = \\frac{R_{u} T V \\rho}{M}$$"
      ],
      "text/plain": [
       "      Rᵤ⋅T⋅V⋅ρ\n",
       "V⋅p = ────────\n",
       "         M    "
      ]
     },
     "execution_count": 7,
     "metadata": {},
     "output_type": "execute_result"
    }
   ],
   "source": [
    "_p, _V, _rho, _R_u, _T, _M = sym.symbols('p, V, rho, R_u, T, M')\n",
    "eq = sym.Eq(_p*_V,_rho*_V*_R_u*_T/_M)\n",
    "eq"
   ]
  },
  {
   "cell_type": "markdown",
   "metadata": {},
   "source": [
    "Iz enačbe izpostavimo gostoto"
   ]
  },
  {
   "cell_type": "code",
   "execution_count": 8,
   "metadata": {},
   "outputs": [
    {
     "data": {
      "image/png": "[encoded data removed]",
      "text/latex": [
       "$$\\left [ \\frac{M p}{R_{u} T}\\right ]$$"
      ],
      "text/plain": [
       "⎡M⋅p ⎤\n",
       "⎢────⎥\n",
       "⎣Rᵤ⋅T⎦"
      ]
     },
     "execution_count": 8,
     "metadata": {},
     "output_type": "execute_result"
    }
   ],
   "source": [
    "rho_air = solve(eq,_rho)\n",
    "rho_air"
   ]
  },
  {
   "cell_type": "markdown",
   "metadata": {},
   "source": [
    "Sedaj potrebujemo še konstante."
   ]
  },
  {
   "cell_type": "code",
   "execution_count": 9,
   "metadata": {},
   "outputs": [],
   "source": [
    "from scipy import constants"
   ]
  },
  {
   "cell_type": "code",
   "execution_count": 10,
   "metadata": {},
   "outputs": [
    {
     "name": "stdout",
     "output_type": "stream",
     "text": [
      "Gostota zraka je: 1.19 kg/m3\n"
     ]
    }
   ],
   "source": [
    "rho_air_value = rho_air[0].subs({\n",
    "    _R_u:constants.R, #Plinska konstanta [ J mol^-1 K^-1]\n",
    "    _M: 28.96/1000, # Molska masa zraka [kg/mol] - https://socratic.org/questions/what-is-the-molecular-weight-of-air\n",
    "    _T: 20+273.15, #Temperatura okolice [K]\n",
    "    _p: 1*10**5 #Tlak okolice [Pa]\n",
    "}).evalf()\n",
    "print(f'Gostota zraka je: {round(rho_air_value,2)} kg/m3') ##Gostota zraka [kg/m^3]"
   ]
  },
  {
   "cell_type": "markdown",
   "metadata": {},
   "source": [
    "## Koeficient trenja\n",
    "Potrebujemo izračunati še konstanto upora v naši enačbi hitrosti padanja. Izračunamo jo iz sledeče enačbe:\n",
    "\n",
    "$$ F_u = -\\frac{1}{2}*C*\\rho*A*v^2 $$\n",
    "Kjer je naša konstanta:\n",
    "$$ k = \\frac{1}{2}*C*\\rho*A $$\n",
    "\n",
    "C je praviloma določen izkustveno. Za sferične predmete je C v visko turbolentnem toku približno enak 0.1\n",
    "(https://www.grc.nasa.gov/www/k-12/airplane/dragsphere.html)"
   ]
  },
  {
   "cell_type": "code",
   "execution_count": 11,
   "metadata": {},
   "outputs": [
    {
     "data": {
      "image/png": "[encoded data removed]",
      "text/latex": [
       "$$0.5 A C \\rho v^{2}$$"
      ],
      "text/plain": [
       "           2\n",
       "0.5⋅A⋅C⋅ρ⋅v "
      ]
     },
     "execution_count": 11,
     "metadata": {},
     "output_type": "execute_result"
    }
   ],
   "source": [
    "_k, _C, _A, _v = sym.symbols('k, C, A v')\n",
    "_k = 1/2*_C*_rho*_A*_v**2\n",
    "_k"
   ]
  },
  {
   "cell_type": "markdown",
   "metadata": {},
   "source": [
    "Preliminarno določimo k."
   ]
  },
  {
   "cell_type": "code",
   "execution_count": 12,
   "metadata": {},
   "outputs": [
    {
     "data": {
      "image/png": "[encoded data removed]",
      "text/latex": [
       "$$0.093317802344781$$"
      ],
      "text/plain": [
       "0.0933178023447810"
      ]
     },
     "execution_count": 12,
     "metadata": {},
     "output_type": "execute_result"
    }
   ],
   "source": [
    "k = _k.subs({\n",
    "    _C: 0.5,\n",
    "    _A: sym.pi*(diam)**2/4,\n",
    "    _rho: rho_air_value/1000,\n",
    "    _v:100\n",
    "}).evalf()\n",
    "k"
   ]
  },
  {
   "cell_type": "markdown",
   "metadata": {},
   "source": [
    "# Izračun hitrosti padanja\n",
    "Enačbo $$m\\ddot{y}+(\\frac{1}{2}CA\\rho)\\dot{y}-mg=0$$ bomo sedaj rešili s uporabo eulerjeve metode. Naš rezultat bo hitrost v smeri y.\n",
    "\n",
    "\n",
    "$$ k = \\frac{1}{2}*C*\\rho*A $$"
   ]
  },
  {
   "cell_type": "code",
   "execution_count": 13,
   "metadata": {},
   "outputs": [],
   "source": [
    "from scipy.integrate import solve_ivp"
   ]
  },
  {
   "cell_type": "code",
   "execution_count": 14,
   "metadata": {},
   "outputs": [],
   "source": [
    "def fun(x, y, g=9.81, m=30, d=0.1, rho=1.18/1000, mu=0.0000157):\n",
    "    # Konstante izračuna Cd ( https://www.researchgate.net/publication/244155878 )\n",
    "    A=0.1806\n",
    "    B=0.6459\n",
    "    C=0.4251\n",
    "    D=6880.95\n",
    "    \n",
    "    # Izračun Cd vključuje deljenje z hitrostjo. Ker je pri začetnem pogoju le-ta enaka 0 ji prištejemo nekaj zelo majhnega.   \n",
    "    Re = d*y[1]*rho/mu+0.000000001\n",
    "    Cd = 24/Re*(1+A*Re**B)+C/(1+D/Re)\n",
    "    \n",
    "    #Izračun konstante\n",
    "    k = (((d/2)**2)*Cd*rho*y[1]**2)/2\n",
    "    #Vrnjen vektor\n",
    "    return np.array([y[1], g-k/m*y[1]**2])"
   ]
  },
  {
   "cell_type": "code",
   "execution_count": 15,
   "metadata": {},
   "outputs": [],
   "source": [
    "#Pogoj kdaj se izračun diferencialne enačbe konča\n",
    "tla = lambda x,y: height-y[0]\n",
    "tla.terminal = True\n",
    "tla.direction = -1\n",
    "\n",
    "#Numerični izračun rešitve\n",
    "res = solve_ivp(lambda t, y: fun(t, y, m=m, d=diam, rho=float(rho_air_value/1000)), [y_points[0], y_points[-1]], y0=np.array([0,0]), t_eval=y_points,events=tla)\n",
    "y,v=res.y\n",
    "\n",
    "#Izračun pospeška\n",
    "a=fun(y_points,res.y,m=m, d=diam, rho=float(rho_air_value/1000))[1]"
   ]
  },
  {
   "cell_type": "code",
   "execution_count": 16,
   "metadata": {},
   "outputs": [
    {
     "name": "stdout",
     "output_type": "stream",
     "text": [
      "Trajanje padca: 50.0s\n",
      "Število vzorcev: 500, korak dt: 0.1s\n"
     ]
    }
   ],
   "source": [
    "#Trajanje padca iz višine {height}\n",
    "print(f'Trajanje padca: {round(res.t[-1],2)}s')\n",
    "\n",
    "#Število vzorcev\n",
    "print(f'Število vzorcev: {len(res.t)}, korak dt: {round(res.t[-1]/len(res.t),3)}s')"
   ]
  },
  {
   "cell_type": "markdown",
   "metadata": {},
   "source": [
    "### Izris rezultatov izračuna\n",
    "V naslednjih tabelah lahko vidimo izrisane profile predmeta v padcu. Odziv ustreza pričakovanemu, s hitrostjo se manjša pospešek, saj v diferencialni enačbi s hitrostjo narašča vpliv člena `k`. Na neki točki je le-ta dovolj velik da ustavi pospeševanje. Tu je dosežena terminalna hitrost."
   ]
  },
  {
   "cell_type": "code",
   "execution_count": 17,
   "metadata": {},
   "outputs": [
    {
     "data": {
      "text/plain": [
       "Text(0.5, 1.0, 'Translation')"
      ]
     },
     "execution_count": 17,
     "metadata": {},
     "output_type": "execute_result"
    },
    {
     "data": {
      "image/png": "[encoded data removed]",
      "text/plain": [
       "<Figure size 1080x360 with 3 Axes>"
      ]
     },
     "metadata": {
      "needs_background": "light"
     },
     "output_type": "display_data"
    }
   ],
   "source": [
    "fig, axs  = plt.subplots(1, 3,figsize=(15,5))\n",
    "axs[0].plot(res.t, a)\n",
    "axs[0].set_title('Acceleration')\n",
    "axs[1].plot(res.t, v)\n",
    "axs[1].set_title('Speed')\n",
    "axs[2].plot(res.t, y)\n",
    "axs[2].set_title('Translation')"
   ]
  },
  {
   "cell_type": "markdown",
   "metadata": {},
   "source": [
    "## Interpolacija in določitev terminalne hitrosti\n",
    "\n",
    "Sedaj bomo s pomočjo interpolacije točk pospeševanja določili kdaj funkcija začne limitirati proti 0. Takrat vemo, da smo dosegli terminalno hitrost.\n",
    "\n",
    "Najprej določimo naše zlepke polinomov"
   ]
  },
  {
   "cell_type": "code",
   "execution_count": 18,
   "metadata": {},
   "outputs": [],
   "source": [
    "from scipy.interpolate import InterpolatedUnivariateSpline"
   ]
  },
  {
   "cell_type": "code",
   "execution_count": 19,
   "metadata": {},
   "outputs": [],
   "source": [
    "spl = InterpolatedUnivariateSpline(res.t, a, k=3)"
   ]
  },
  {
   "cell_type": "code",
   "execution_count": 20,
   "metadata": {},
   "outputs": [
    {
     "data": {
      "text/plain": [
       "Text(0.5, 1.0, 'Interpolated Translation')"
      ]
     },
     "execution_count": 20,
     "metadata": {},
     "output_type": "execute_result"
    },
    {
     "data": {
      "image/png": "[encoded data removed]",
      "text/plain": [
       "<Figure size 1080x360 with 3 Axes>"
      ]
     },
     "metadata": {
      "needs_background": "light"
     },
     "output_type": "display_data"
    }
   ],
   "source": [
    "fig, axs  = plt.subplots(1, 3,figsize=(15,5))\n",
    "axs[0].plot(res.t, spl(res.t))\n",
    "axs[0].set_title('Interpolated Acceleration')\n",
    "axs[1].plot(res.t, spl.antiderivative(1)(res.t))\n",
    "axs[1].set_title('Interpolated Speed')\n",
    "axs[2].plot(res.t, spl.antiderivative(2)(res.t))\n",
    "axs[2].set_title('Interpolated Translation')"
   ]
  },
  {
   "cell_type": "markdown",
   "metadata": {},
   "source": [
    "Sedaj lahko s pomočjo integracije določimo še prepotovano pot."
   ]
  },
  {
   "cell_type": "code",
   "execution_count": 21,
   "metadata": {},
   "outputs": [
    {
     "name": "stdout",
     "output_type": "stream",
     "text": [
      "Prepotovana pot padca je: 4688.3m\n"
     ]
    }
   ],
   "source": [
    "print(f'Prepotovana pot padca je: {round(spl.antiderivative(1).integral(0,res.t[-1]),2)}m')"
   ]
  },
  {
   "cell_type": "markdown",
   "metadata": {},
   "source": [
    "## Iskanje ničel funkcije\n",
    "\n",
    "Kot je na grafu razvidno, lahko opazimo, da začne funkcija pospeška nihati okoli ničle. To lahko izkoristimo, da najdemo prvo ničlo ter tam določimo terminalno hitrost."
   ]
  },
  {
   "cell_type": "code",
   "execution_count": 22,
   "metadata": {},
   "outputs": [],
   "source": [
    "from scipy.optimize import newton"
   ]
  },
  {
   "cell_type": "code",
   "execution_count": 23,
   "metadata": {},
   "outputs": [
    {
     "name": "stdout",
     "output_type": "stream",
     "text": [
      "Prva ničla se nahaja pri: 35.32s\n",
      "Terminalna hitrost je: 106.56 m/s\n"
     ]
    }
   ],
   "source": [
    "print(f'Prva ničla se nahaja pri: {round(newton(spl, 5, maxiter=50),2)}s')\n",
    "print(f'Terminalna hitrost je: {round(float(spl.antiderivative(1)(21)), 2)} m/s')"
   ]
  },
  {
   "cell_type": "markdown",
   "metadata": {},
   "source": [
    "# Aplikacija in strežnik \n",
    "\n",
    "Poročilu je dodan še strežnik in spletni klijent za uporabo strežnika. Le-tega je potrebno pognati s pomočjo zunanje orodne vrstice (CMD, Anaconda Prompt, Powershell....), saj jupyter ne podpira izvajanja strežniške kode.\n",
    "\n",
    "Prav take je so pravilno delovanje potrebna PIP paketa python-socketio in aiohttp, ter spremljajoče odvisnosti. \n",
    "Te lahko naložite z uporabo ukaza `$ pip install -r requirements.txt` iz root mape tega projekta. T.j. lokacija tega jupyter notebooka.\n",
    "\n",
    "Nato se program požene s pomočjo ukaza `$ python app.py`. V spletnem brskalniku se lahko na strežnik povežete preko naslova `http://localhost:8080`\n",
    "\n"
   ]
  },
  {
   "cell_type": "markdown",
   "metadata": {},
   "source": [
    "V primeru, da ne želite nalagati vseh PIP paketov, oz. iz kakšnega razloga aplikacija ne deluje so v mapi `/slike` priložene slike, ki prikažejo delovanje aplikacije."
   ]
  }
 ],
 "metadata": {
  "kernelspec": {
   "display_name": "Python 3",
   "language": "python",
   "name": "python3"
  },
  "language_info": {
   "codemirror_mode": {
    "name": "ipython",
    "version": 3
   },
   "file_extension": ".py",
   "mimetype": "text/x-python",
   "name": "python",
   "nbconvert_exporter": "python",
   "pygments_lexer": "ipython3",
   "version": "3.7.1"
  }
 },
 "nbformat": 4,
 "nbformat_minor": 2
}
